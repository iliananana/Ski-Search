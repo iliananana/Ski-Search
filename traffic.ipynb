{
 "cells": [
  {
   "cell_type": "code",
   "execution_count": 26,
   "metadata": {},
   "outputs": [
    {
     "name": "stdout",
     "output_type": "stream",
     "text": [
      "<p>Friday will be cloudy with a chance for snow. Snow is expected Saturday morning west of the Eisenhower Tunnel and then cloudy on Sunday.  As travelers head back to the Front Range on Sunday, there is a chance of snow east of Georgetown. Winter weather can slow travel beyond the forecasted times below. Even though it is Spring, good tires are still a must when traveling the mountain corridor!</p>\n",
      "<p><u>Friday WB </u>– Last year there was congestion between 7:00-11:00 a.m. and again from 3:30-7:00 p.m.</p>\n",
      "<p><u>Friday EB</u> – There will be slowing between 3:00 and 5:30 p.m. Last year saw delays of about 15  minutes.</p>\n",
      "<p><u>Saturday WB</u> –Traffic will develop quickly after 6:00 a.m. and last until approximately 11:30 a.m., peaking around 8:00 a.m. Congestions will result in approximately 30 minutes of extra travel time between C470 and Silverthorne.</p>\n",
      "<p><u>Saturday EB</u> –Expect moderate traffic between 2:30 and 6:00 p.m.</p>\n",
      "<p><u>Sunday WB</u> – Plan for some volume between 7:00 and 9:00 a.m. but with no significant delays.</p>\n",
      "<p><u>Sunday EB</u> – Last year on this date, traffic started to build at Noon and ended around 7:00 p.m. Traffic peaked between 2:00 and 4:30 p.m. with delays of up to one hour on a trip from Silverthorne to C470. Metering at the tunnel is very likely.</p>\n",
      "<p><i><i>*The GoI70.com Travel Forecast is based on historical data, a</i>long with an estimation of how weather, construction, public events and other factors might impact travel.</i></p>\n",
      "<p>2-8 inches for Thursday's reports. Storm totals of 4-11 inches. Mostly dry on Thursday, followed by snow showers popping back up Thursday evening. Mostly dry on Friday, followed by a stronger wave of heavy snow and cold temps on Friday night. Another chance for light snow late Sunday. Dry early next week ahead of another storm around Thursday, March 30.</p>\n",
      "<p>Powered by</p>\n",
      "<u>Friday WB </u>\n",
      "<u>Friday EB</u>\n",
      "<u>Saturday WB</u>\n",
      "<u>Saturday EB</u>\n",
      "<u>Sunday WB</u>\n",
      "<u>Sunday EB</u>\n"
     ]
    }
   ],
   "source": [
    "import requests\n",
    "from bs4 import BeautifulSoup\n",
    "\n",
    "\n",
    "url = \"https://goi70.com/travel\"\n",
    "\n",
    "soup = BeautifulSoup(requests.get(url).content, \"html.parser\")\n",
    "\n",
    "table = soup.find_all('div', {'class': 'col-sm-12'})[2]\n",
    "\n",
    "rows = table.find_all('p')\n",
    "names = table.find_all('u')\n",
    "\n",
    "for row in rows:\n",
    "    print(row)\n",
    "\n",
    "for name in names:\n",
    "    print(name)"
   ]
  }
 ],
 "metadata": {
  "kernelspec": {
   "display_name": "Python 3",
   "language": "python",
   "name": "python3"
  },
  "language_info": {
   "codemirror_mode": {
    "name": "ipython",
    "version": 3
   },
   "file_extension": ".py",
   "mimetype": "text/x-python",
   "name": "python",
   "nbconvert_exporter": "python",
   "pygments_lexer": "ipython3",
   "version": "3.9.7"
  },
  "orig_nbformat": 4
 },
 "nbformat": 4,
 "nbformat_minor": 2
}
