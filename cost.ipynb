{
 "cells": [
  {
   "cell_type": "code",
   "execution_count": 56,
   "metadata": {},
   "outputs": [
    {
     "name": "stdout",
     "output_type": "stream",
     "text": [
      "the cost of going down I-70 at 7:00AM is 12\n",
      "the cost of going to Arapahoe Basin is 50\n"
     ]
    }
   ],
   "source": [
    "import snowfall\n",
    "from traffic import traffic_data\n",
    "\n",
    "import pandas as pd\n",
    "\n",
    "def get_traffic_cost(location, time):\n",
    "    location_df = traffic_data[traffic_data['location'] == location]\n",
    "    df = location_df[location_df['time'] == time]\n",
    "\n",
    "    delay = df['delay'].astype(int).iloc[0]\n",
    "\n",
    "    if delay < 5:\n",
    "        return 0\n",
    "    elif delay < 15:\n",
    "        return 4\n",
    "    elif delay < 30:\n",
    "        return 12\n",
    "    elif delay < 60:\n",
    "        return 20\n",
    "    elif delay < 90:\n",
    "        return 30\n",
    "    else:\n",
    "        return 50\n",
    "\n",
    "def get_snowfall_cost(resort):\n",
    "    df = snowfall.df[snowfall.df['title_short'] == resort]\n",
    "    snowfall_24hr = df['snow'].tolist()[0]['last24']\n",
    "    \n",
    "    if snowfall_24hr == 0:\n",
    "        return 50\n",
    "    elif snowfall_24hr < 2:\n",
    "        return 20\n",
    "    elif snowfall_24hr < 4:\n",
    "        return 10\n",
    "    elif snowfall_24hr < 6:\n",
    "        return 5\n",
    "    elif snowfall_24hr < 10:\n",
    "        return 2\n",
    "    else:\n",
    "        return 0\n",
    "\n",
    "print(\"the cost of going down I-70 at 7:00AM is\", get_traffic_cost(\"I-70\", \"07:00AM\"))\n",
    "print(\"the cost of going to Arapahoe Basin is\", get_snowfall_cost(\"Arapahoe Basin\"))"
   ]
  }
 ],
 "metadata": {
  "kernelspec": {
   "display_name": "Python 3",
   "language": "python",
   "name": "python3"
  },
  "language_info": {
   "codemirror_mode": {
    "name": "ipython",
    "version": 3
   },
   "file_extension": ".py",
   "mimetype": "text/x-python",
   "name": "python",
   "nbconvert_exporter": "python",
   "pygments_lexer": "ipython3",
   "version": "3.9.7"
  },
  "orig_nbformat": 4
 },
 "nbformat": 4,
 "nbformat_minor": 2
}
