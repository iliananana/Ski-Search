{
 "cells": [
  {
   "cell_type": "code",
   "execution_count": 1,
   "metadata": {},
   "outputs": [
    {
     "name": "stdout",
     "output_type": "stream",
     "text": [
      "['Arapahoe Basin', 'Beaver Creek', 'Breckenridge', 'Copper Mountain', 'Eldora', 'Keystone', 'Loveland', 'Vail', 'Winter Park']\n"
     ]
    }
   ],
   "source": [
    "import json\n",
    "import requests\n",
    "import ast\n",
    "import pandas as pd\n",
    "from bs4 import BeautifulSoup\n",
    "\n",
    "# For scraping snow data from On the Snow\n",
    "url = \"https://www.onthesnow.com/colorado/skireport\"\n",
    "\n",
    "soup = BeautifulSoup(requests.get(url).content, \"html.parser\")\n",
    "\n",
    "data = json.loads(soup.select_one(\"#__NEXT_DATA__\").text)\n",
    "OTS_resorts = data[\"props\"][\"pageProps\"][\"resorts\"][\"1\"][\"data\"]\n",
    "OTS_df = pd.DataFrame(OTS_resorts)\n",
    "\n",
    "# For out of season data from march 31st\n",
    "march_df = pd.read_csv(\"Ski-Search/3-21-ikon-snowreport.csv\")\n",
    "march_resorts = march_df['title_short']\n",
    "march_resorts_list = list(march_resorts)\n",
    "\n",
    "print(march_resorts_list)\n",
    "snowfall_24hr = march_resorts_list\n",
    "snowfall_24hr = march_df['snow']\n",
    "snowfall_24hr = snowfall_24hr.apply(ast.literal_eval)\n",
    "last24_values_df = snowfall_24hr.apply(lambda x: x['last24'])\n",
    "last24_values_list = last24_values_df.tolist()\n",
    "\n"
   ]
  }
 ],
 "metadata": {
  "kernelspec": {
   "display_name": "base",
   "language": "python",
   "name": "python3"
  },
  "language_info": {
   "codemirror_mode": {
    "name": "ipython",
    "version": 3
   },
   "file_extension": ".py",
   "mimetype": "text/x-python",
   "name": "python",
   "nbconvert_exporter": "python",
   "pygments_lexer": "ipython3",
   "version": "3.9.7"
  },
  "orig_nbformat": 4
 },
 "nbformat": 4,
 "nbformat_minor": 2
}
